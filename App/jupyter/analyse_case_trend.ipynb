{
 "cells": [
  {
   "cell_type": "code",
   "execution_count": 43,
   "id": "cognitive-rogers",
   "metadata": {},
   "outputs": [
    {
     "name": "stdout",
     "output_type": "stream",
     "text": [
      "root\n",
      " |-- date: string (nullable = true)\n",
      " |-- dailyConfirmed: integer (nullable = true)\n",
      "\n"
     ]
    }
   ],
   "source": [
    "from pyspark.sql import SparkSession\n",
    "from pathlib import Path\n",
    "import pyspark.sql.functions as func\n",
    "from pyspark.ml.regression import LinearRegression\n",
    "from pyspark.ml.feature import VectorAssembler\n",
    "from pyspark.sql.functions import desc, row_number, monotonically_increasing_id\n",
    "from pyspark.sql.window import Window\n",
    "import matplotlib.pyplot as plt\n",
    "from pyspark.sql.functions import sum as _sum\n",
    "\n",
    "\n",
    "def read_parquet_file(spark, file_path):\n",
    "    df = spark.read.parquet(file_path)\n",
    "    return df\n",
    "\n",
    "\n",
    "def is_hdfs_file_exist(path):\n",
    "    proc = subprocess.Popen(['hadoop', 'fs', '-test', '-e', path])\n",
    "    proc.communicate()\n",
    "    return proc.returncode == 0\n",
    "\n",
    "\n",
    "def add_index_to_dataframe(df):\n",
    "    return df.withColumn('index', row_number().over(Window.orderBy(monotonically_increasing_id())))\n",
    "\n",
    "\n",
    "\n",
    "spark = SparkSession.builder.appName('lr_example').getOrCreate()\n",
    "\n",
    "# Load data\n",
    "hdfs_host = \"hdfs://localhost:9000\"\n",
    "hdfs_root_path = \"/SafeEntry_Analytics/\"\n",
    "case_file_dest = \"case_daily_summary.parquet\"\n",
    "\n",
    "all_data = read_parquet_file(spark, hdfs_host+hdfs_root_path+case_file_dest)\n",
    "all_data.printSchema()\n",
    "\n"
   ]
  },
  {
   "cell_type": "code",
   "execution_count": 44,
   "id": "perfect-mountain",
   "metadata": {},
   "outputs": [
    {
     "name": "stdout",
     "output_type": "stream",
     "text": [
      "+----------+--------------+---------+-----+\n",
      "|      date|dailyConfirmed|dayOfWeek|index|\n",
      "+----------+--------------+---------+-----+\n",
      "|2020-01-23|             1|        5|    1|\n",
      "|2020-01-24|             2|        6|    2|\n",
      "|2020-01-25|             1|        7|    3|\n",
      "|2020-01-26|             0|        1|    4|\n",
      "|2020-01-27|             1|        2|    5|\n",
      "|2020-01-28|             2|        3|    6|\n",
      "|2020-01-29|             3|        4|    7|\n",
      "|2020-01-30|             3|        5|    8|\n",
      "|2020-01-31|             3|        6|    9|\n",
      "|2020-02-01|             2|        7|   10|\n",
      "|2020-02-02|             0|        1|   11|\n",
      "|2020-02-03|             0|        2|   12|\n",
      "|2020-02-04|             6|        3|   13|\n",
      "|2020-02-05|             4|        4|   14|\n",
      "|2020-02-06|             2|        5|   15|\n",
      "|2020-02-07|             3|        6|   16|\n",
      "|2020-02-08|             7|        7|   17|\n",
      "|2020-02-09|             3|        1|   18|\n",
      "|2020-02-10|             2|        2|   19|\n",
      "|2020-02-11|             2|        3|   20|\n",
      "+----------+--------------+---------+-----+\n",
      "only showing top 20 rows\n",
      "\n",
      "root\n",
      " |-- date: string (nullable = true)\n",
      " |-- dailyConfirmed: integer (nullable = true)\n",
      " |-- dayOfWeek: integer (nullable = true)\n",
      " |-- index: integer (nullable = true)\n",
      "\n"
     ]
    }
   ],
   "source": [
    "cases_group_by_date = all_data.withColumn(\"dayOfWeek\", func.dayofweek(all_data[\"date\"]))\n",
    "cases_group_by_date = add_index_to_dataframe(cases_group_by_date)\n",
    "cases_group_by_date.show()\n",
    "cases_group_by_date.printSchema()"
   ]
  },
  {
   "cell_type": "code",
   "execution_count": 45,
   "id": "numerical-outline",
   "metadata": {},
   "outputs": [
    {
     "data": {
      "text/plain": [
       "Text(0, 0.5, 'Count')"
      ]
     },
     "execution_count": 45,
     "metadata": {},
     "output_type": "execute_result"
    },
    {
     "data": {
      "image/png": "[encoded data removed]",
      "text/plain": [
       "<Figure size 432x288 with 1 Axes>"
      ]
     },
     "metadata": {
      "needs_background": "light"
     },
     "output_type": "display_data"
    }
   ],
   "source": [
    "cases_group_by_date.toPandas().plot(x=\"date\", y=\"dailyConfirmed\")\n",
    "plt.title(\"Daily cases\")\n",
    "plt.xlabel(\"Date\")\n",
    "plt.ylabel(\"Count\")"
   ]
  },
  {
   "cell_type": "code",
   "execution_count": 53,
   "id": "supposed-garden",
   "metadata": {},
   "outputs": [
    {
     "name": "stdout",
     "output_type": "stream",
     "text": [
      "+---------+-------------------+\n",
      "|dayOfWeek|sum(dailyConfirmed)|\n",
      "+---------+-------------------+\n",
      "|        1|               8823|\n",
      "|        2|               8083|\n",
      "|        3|               8105|\n",
      "|        4|               9512|\n",
      "|        5|               8698|\n",
      "|        6|               9152|\n",
      "|        7|               8202|\n",
      "+---------+-------------------+\n",
      "\n"
     ]
    },
    {
     "data": {
      "text/plain": [
       "<AxesSubplot:>"
      ]
     },
     "execution_count": 53,
     "metadata": {},
     "output_type": "execute_result"
    },
    {
     "data": {
      "image/png": "[encoded data removed]",
      "text/plain": [
       "<Figure size 432x288 with 1 Axes>"
      ]
     },
     "metadata": {
      "needs_background": "light"
     },
     "output_type": "display_data"
    }
   ],
   "source": [
    "\n",
    "#cases_group_by_date.select(\"count\").distinct().show()\n",
    "cases_group_by_day_of_week = cases_group_by_date\\\n",
    "                        .groupby(['dayOfWeek'])\\\n",
    "                        .agg(_sum('dailyConfirmed'))\\\n",
    "                        .orderBy('dayOfWeek',asending=True)\n",
    "cases_group_by_day_of_week.show()\n",
    "\n",
    "cases_group_by_day_of_week.toPandas().plot(kind='bar')\n"
   ]
  },
  {
   "cell_type": "code",
   "execution_count": 48,
   "id": "comparative-surface",
   "metadata": {},
   "outputs": [
    {
     "name": "stdout",
     "output_type": "stream",
     "text": [
      "+----------+--------------+---------+-----+\n",
      "|      date|dailyConfirmed|dayOfWeek|index|\n",
      "+----------+--------------+---------+-----+\n",
      "|2020-01-23|             1|        5|    1|\n",
      "|2020-01-24|             2|        6|    2|\n",
      "|2020-01-25|             1|        7|    3|\n",
      "|2020-01-26|             0|        1|    4|\n",
      "|2020-01-27|             1|        2|    5|\n",
      "|2020-01-28|             2|        3|    6|\n",
      "|2020-01-29|             3|        4|    7|\n",
      "|2020-01-30|             3|        5|    8|\n",
      "|2020-01-31|             3|        6|    9|\n",
      "|2020-02-01|             2|        7|   10|\n",
      "|2020-02-02|             0|        1|   11|\n",
      "|2020-02-03|             0|        2|   12|\n",
      "|2020-02-04|             6|        3|   13|\n",
      "|2020-02-05|             4|        4|   14|\n",
      "|2020-02-06|             2|        5|   15|\n",
      "|2020-02-07|             3|        6|   16|\n",
      "|2020-02-08|             7|        7|   17|\n",
      "|2020-02-09|             3|        1|   18|\n",
      "|2020-02-10|             2|        2|   19|\n",
      "|2020-02-11|             2|        3|   20|\n",
      "+----------+--------------+---------+-----+\n",
      "only showing top 20 rows\n",
      "\n",
      "+----------+--------------+---------+-----+\n",
      "|      date|dailyConfirmed|dayOfWeek|index|\n",
      "+----------+--------------+---------+-----+\n",
      "|2020-11-25|             7|        4|  308|\n",
      "|2020-11-26|             5|        5|  309|\n",
      "|2020-11-27|             4|        6|  310|\n",
      "|2020-11-28|             6|        7|  311|\n",
      "|2020-11-29|             8|        1|  312|\n",
      "|2020-11-30|             5|        2|  313|\n",
      "|2020-12-01|            10|        3|  314|\n",
      "|2020-12-02|             2|        4|  315|\n",
      "|2020-12-03|             9|        5|  316|\n",
      "|2020-12-04|             3|        6|  317|\n",
      "|2020-12-05|            13|        7|  318|\n",
      "|2020-12-06|             5|        1|  319|\n",
      "|2020-12-07|            13|        2|  320|\n",
      "|2020-12-08|            12|        3|  321|\n",
      "|2020-12-09|             6|        4|  322|\n",
      "|2020-12-10|             6|        5|  323|\n",
      "|2020-12-11|             8|        6|  324|\n",
      "|2020-12-12|             8|        7|  325|\n",
      "|2020-12-13|             7|        1|  326|\n",
      "|2020-12-14|             5|        2|  327|\n",
      "+----------+--------------+---------+-----+\n",
      "only showing top 20 rows\n",
      "\n"
     ]
    }
   ],
   "source": [
    "# Split into training data and test data\n",
    "total_count = cases_group_by_date.count()\n",
    "seventy_percent_index = round(total_count * 0.7)\n",
    "cases_group_by_date.registerTempTable(\"daily_cases\")\n",
    "train_data = spark.sql(\"select * from daily_cases where index <= {}\".format(seventy_percent_index))\n",
    "test_data = spark.sql(\"select * from daily_cases where index > {}\".format(seventy_percent_index))\n",
    "train_data.show()\n",
    "test_data.show()"
   ]
  },
  {
   "cell_type": "code",
   "execution_count": 49,
   "id": "humanitarian-yemen",
   "metadata": {},
   "outputs": [
    {
     "name": "stdout",
     "output_type": "stream",
     "text": [
      "Coefficients: [-0.5713947662047318,0.3125169026119389]\n",
      "Intercept: 276.52648534273567\n"
     ]
    }
   ],
   "source": [
    "# These are the default values for the featuresCol, labelCol, predictionCol\n",
    "vectorAssembler = VectorAssembler(inputCols=[\"index\",\"dayOfWeek\"], outputCol=\"features\")\n",
    "train_sub = vectorAssembler.transform(train_data)\n",
    "test_sub = vectorAssembler.transform(test_data)\n",
    "\n",
    "lr = LinearRegression(featuresCol='features',labelCol='dailyConfirmed',predictionCol='prediction')\n",
    "# Fit the model\n",
    "lr_model = lr.fit(train_sub)\n",
    "# Print the coefficients and intercept training data\n",
    "print(\"Coefficients: {}\".format(str(lr_model.coefficients)))\n",
    "print(\"Intercept: {}\".format(str(lr_model.intercept)))"
   ]
  },
  {
   "cell_type": "code",
   "execution_count": 50,
   "id": "sunrise-integral",
   "metadata": {},
   "outputs": [
    {
     "name": "stdout",
     "output_type": "stream",
     "text": [
      "+------------------+\n",
      "|         residuals|\n",
      "+------------------+\n",
      "|  -94.786964962126|\n",
      "|-96.52808709853323|\n",
      "|-97.26920923494043|\n",
      "|-95.01033137134763|\n",
      "|-90.56383518947129|\n",
      "|-93.30495732587846|\n",
      "|-88.04607946228569|\n",
      "|-95.78720159869289|\n",
      "|-88.52832373510012|\n",
      "|-94.26944587150729|\n",
      "|-84.01056800791451|\n",
      "|-89.56407182603814|\n",
      "|-81.30519396244534|\n",
      "|-82.04631609885257|\n",
      "|-87.78743823525977|\n",
      "|  -87.528560371667|\n",
      "|-85.26968250807417|\n",
      "| -85.0108046444814|\n",
      "|-83.56430846260503|\n",
      "|-85.30543059901223|\n",
      "+------------------+\n",
      "only showing top 20 rows\n",
      "\n",
      "RMSE: 53.03950558002016\n"
     ]
    }
   ],
   "source": [
    "# Testing result\n",
    "test_result = lr_model.evaluate(test_sub)\n",
    "test_result.residuals.show()\n",
    "print(\"RMSE: {}\".format(test_result.rootMeanSquaredError))"
   ]
  },
  {
   "cell_type": "code",
   "execution_count": 51,
   "id": "broken-audio",
   "metadata": {},
   "outputs": [
    {
     "name": "stdout",
     "output_type": "stream",
     "text": [
      "+----------+--------------+---------+-----+-----------+----------+\n",
      "|      date|dailyConfirmed|dayOfWeek|index|   features|prediction|\n",
      "+----------+--------------+---------+-----+-----------+----------+\n",
      "|2020-11-25|             7|        4|  308|[308.0,4.0]|     102.0|\n",
      "|2020-11-26|             5|        5|  309|[309.0,5.0]|     102.0|\n",
      "|2020-11-27|             4|        6|  310|[310.0,6.0]|     101.0|\n",
      "|2020-11-28|             6|        7|  311|[311.0,7.0]|     101.0|\n",
      "|2020-11-29|             8|        1|  312|[312.0,1.0]|      99.0|\n",
      "|2020-11-30|             5|        2|  313|[313.0,2.0]|      98.0|\n",
      "|2020-12-01|            10|        3|  314|[314.0,3.0]|      98.0|\n",
      "|2020-12-02|             2|        4|  315|[315.0,4.0]|      98.0|\n",
      "|2020-12-03|             9|        5|  316|[316.0,5.0]|      98.0|\n",
      "|2020-12-04|             3|        6|  317|[317.0,6.0]|      97.0|\n",
      "|2020-12-05|            13|        7|  318|[318.0,7.0]|      97.0|\n",
      "|2020-12-06|             5|        1|  319|[319.0,1.0]|      95.0|\n",
      "|2020-12-07|            13|        2|  320|[320.0,2.0]|      94.0|\n",
      "|2020-12-08|            12|        3|  321|[321.0,3.0]|      94.0|\n",
      "|2020-12-09|             6|        4|  322|[322.0,4.0]|      94.0|\n",
      "|2020-12-10|             6|        5|  323|[323.0,5.0]|      94.0|\n",
      "|2020-12-11|             8|        6|  324|[324.0,6.0]|      93.0|\n",
      "|2020-12-12|             8|        7|  325|[325.0,7.0]|      93.0|\n",
      "|2020-12-13|             7|        1|  326|[326.0,1.0]|      91.0|\n",
      "|2020-12-14|             5|        2|  327|[327.0,2.0]|      90.0|\n",
      "+----------+--------------+---------+-----+-----------+----------+\n",
      "only showing top 20 rows\n",
      "\n"
     ]
    }
   ],
   "source": [
    "# Prediction\n",
    "predictions = lr_model.transform(test_sub)\n",
    "predictions = predictions.withColumn(\"prediction\",func.round(predictions[\"prediction\"]))\n",
    "predictions.show()\n"
   ]
  },
  {
   "cell_type": "code",
   "execution_count": 52,
   "id": "wireless-brazilian",
   "metadata": {},
   "outputs": [
    {
     "data": {
      "image/png": "[encoded data removed]",
      "text/plain": [
       "<Figure size 432x288 with 1 Axes>"
      ]
     },
     "metadata": {
      "needs_background": "light"
     },
     "output_type": "display_data"
    }
   ],
   "source": [
    "predictionsPandas = predictions.toPandas()\n",
    "\n",
    "plt.plot( 'date', 'dailyConfirmed', data=predictionsPandas, marker='')\n",
    "plt.plot( 'date', 'prediction', data=predictionsPandas, marker='')\n",
    "\n",
    "# show legend\n",
    "plt.legend()\n",
    "# show graph\n",
    "plt.show()\n"
   ]
  },
  {
   "cell_type": "code",
   "execution_count": null,
   "id": "industrial-oregon",
   "metadata": {},
   "outputs": [],
   "source": []
  }
 ],
 "metadata": {
  "kernelspec": {
   "display_name": "Python 3",
   "language": "python",
   "name": "python3"
  },
  "language_info": {
   "codemirror_mode": {
    "name": "ipython",
    "version": 3
   },
   "file_extension": ".py",
   "mimetype": "text/x-python",
   "name": "python",
   "nbconvert_exporter": "python",
   "pygments_lexer": "ipython3",
   "version": "3.9.0"
  }
 },
 "nbformat": 4,
 "nbformat_minor": 5
}
