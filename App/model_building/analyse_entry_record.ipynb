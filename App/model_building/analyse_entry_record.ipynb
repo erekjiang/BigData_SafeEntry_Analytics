{
 "cells": [
  {
   "cell_type": "code",
   "execution_count": 1,
   "metadata": {
    "collapsed": true
   },
   "outputs": [],
   "source": [
    "import os\n",
    "from pyspark.storagelevel import StorageLevel\n",
    "\n",
    "\n",
    "os.environ[\"PYSPARK_SUBMIT_ARGS\"] = (\n",
    "    \"--packages graphframes:graphframes:0.8.1-spark3.0-s_2.12 pyspark-shell\"\n",
    ")\n",
    "\n",
    "import pyspark\n",
    "from pyspark.sql import SparkSession\n",
    "from App.utils import *\n",
    "from graphframes import *\n",
    "\n",
    "hdfs_host = \"hdfs://localhost:9000\"\n",
    "hdfs_root_path = \"/SafeEntry_Analytics/\"\n",
    "\n",
    "conf = pyspark.SparkConf().setAppName(\"Explore Entry Record\").setMaster(\"local[*]\")\n",
    "sc = pyspark.SparkContext.getOrCreate(conf=conf)\n",
    "spark = SparkSession(sc)\n",
    "\n",
    "resident_file_dest = \"resident.parquet\"\n",
    "place_file_dest = \"place.parquet\"\n",
    "safe_entry_file_dest = \"entry_record.parquet\"\n",
    "contact_graph_edge_file_dest = \"contact_graph_edge.parquet\"\n",
    "contact_graph_vertex_file_dest = \"contact_graph_vertex.parquet\"\n",
    "\n",
    "communities_file_dest = \"communities.parquet\""
   ]
  },
  {
   "cell_type": "markdown",
   "source": [
    "#### Step 1: Retrieve Graph Data"
   ],
   "metadata": {
    "collapsed": false
   }
  },
  {
   "cell_type": "code",
   "execution_count": 2,
   "outputs": [
    {
     "name": "stdout",
     "output_type": "stream",
     "text": [
      "+--------+--------+\n",
      "|     src|     dst|\n",
      "+--------+--------+\n",
      "|S001140L|F001576U|\n",
      "|F001576U|S001140L|\n",
      "|S001140L|F001596J|\n",
      "|F001596J|S001140L|\n",
      "|F001642K|S001386E|\n",
      "|S001386E|F001642K|\n",
      "|F000575D|S001245Q|\n",
      "|S001245Q|F000575D|\n",
      "|S000913M|F001151X|\n",
      "|F001151X|S000913M|\n",
      "|F001705G|S000759D|\n",
      "|S000759D|F001705G|\n",
      "|F001885E|F001754W|\n",
      "|F001754W|F001885E|\n",
      "|F001885E|S000566W|\n",
      "|S000566W|F001885E|\n",
      "|S000766Y|S001216E|\n",
      "|S001216E|S000766Y|\n",
      "|F001754W|S000566W|\n",
      "|S000566W|F001754W|\n",
      "+--------+--------+\n",
      "only showing top 20 rows\n",
      "\n",
      "+-----------+----------------+--------+------------+--------------------+\n",
      "|resident_id|   resident_name|      id|phone_number|      last_update_dt|\n",
      "+-----------+----------------+--------+------------+--------------------+\n",
      "|      rid_1| resident_name_1|S000001U|    80000001|2021-04-13 23:22:...|\n",
      "|      rid_2| resident_name_2|S000002J|    80000002|2021-04-13 23:22:...|\n",
      "|      rid_3| resident_name_3|F000003Q|    80000003|2021-04-13 23:22:...|\n",
      "|      rid_4| resident_name_4|F000004E|    80000004|2021-04-13 23:22:...|\n",
      "|      rid_5| resident_name_5|S000005I|    90000005|2021-04-13 23:22:...|\n",
      "|      rid_6| resident_name_6|F000006D|    80000006|2021-04-13 23:22:...|\n",
      "|      rid_7| resident_name_7|F000007E|    90000007|2021-04-13 23:22:...|\n",
      "|      rid_8| resident_name_8|S000008H|    90000008|2021-04-13 23:22:...|\n",
      "|      rid_9| resident_name_9|S000009G|    80000009|2021-04-13 23:22:...|\n",
      "|     rid_10|resident_name_10|F000010H|    90000010|2021-04-13 23:22:...|\n",
      "|     rid_11|resident_name_11|S000011M|    90000011|2021-04-13 23:22:...|\n",
      "|     rid_12|resident_name_12|F000012O|    80000012|2021-04-13 23:22:...|\n",
      "|     rid_13|resident_name_13|S000013A|    80000013|2021-04-13 23:22:...|\n",
      "|     rid_14|resident_name_14|S000014S|    90000014|2021-04-13 23:22:...|\n",
      "|     rid_15|resident_name_15|F000015T|    90000015|2021-04-13 23:22:...|\n",
      "|     rid_16|resident_name_16|S000016H|    80000016|2021-04-13 23:22:...|\n",
      "|     rid_17|resident_name_17|F000017L|    80000017|2021-04-13 23:22:...|\n",
      "|     rid_18|resident_name_18|S000018L|    90000018|2021-04-13 23:22:...|\n",
      "|     rid_19|resident_name_19|F000019Q|    90000019|2021-04-13 23:22:...|\n",
      "|     rid_20|resident_name_20|F000020N|    80000020|2021-04-13 23:22:...|\n",
      "+-----------+----------------+--------+------------+--------------------+\n",
      "only showing top 20 rows\n",
      "\n"
     ]
    }
   ],
   "source": [
    "e = read_parquet_file(spark, hdfs_host + hdfs_root_path + contact_graph_edge_file_dest)\n",
    "v = read_parquet_file(spark, hdfs_host + hdfs_root_path + contact_graph_vertex_file_dest)\n",
    "g = GraphFrame(v, e)\n",
    "g.cache()\n",
    "g.edges.show()\n",
    "g.vertices.show()\n"
   ],
   "metadata": {
    "collapsed": false,
    "pycharm": {
     "name": "#%%\n"
    }
   }
  },
  {
   "cell_type": "markdown",
   "source": [
    "#### Step 2: visualize in NetworkX"
   ],
   "metadata": {
    "collapsed": false
   }
  },
  {
   "cell_type": "code",
   "execution_count": 3,
   "outputs": [
    {
     "data": {
      "text/plain": "<Figure size 432x288 with 1 Axes>",
      "image/png": "[encoded data removed]"
     },
     "metadata": {},
     "output_type": "display_data"
    }
   ],
   "source": [
    "g_pdf = g.edges.select(\"*\").toPandas()\n",
    "\n",
    "import networkx as nx\n",
    "import matplotlib.pyplot as plt\n",
    "g_nx = nx.from_pandas_edgelist(g_pdf, source='src', target='dst')\n",
    "nx.draw(g_nx,node_size = 10)\n",
    "plt.show()"
   ],
   "metadata": {
    "collapsed": false,
    "pycharm": {
     "name": "#%%\n"
    }
   }
  },
  {
   "cell_type": "markdown",
   "source": [
    "#### Step 3.1: Find Close Node"
   ],
   "metadata": {
    "collapsed": false
   }
  },
  {
   "cell_type": "code",
   "execution_count": 5,
   "outputs": [
    {
     "name": "stdout",
     "output_type": "stream",
     "text": [
      "+--------+---------------+\n",
      "|id      |distances      |\n",
      "+--------+---------------+\n",
      "|F000003Q|[F001576U -> 5]|\n",
      "|F000004E|[F001576U -> 9]|\n",
      "|F000006D|[F001576U -> 5]|\n",
      "|F000007E|[F001576U -> 6]|\n",
      "|F000010H|[F001576U -> 5]|\n",
      "|F000012O|[F001576U -> 4]|\n",
      "|F000015T|[F001576U -> 4]|\n",
      "|F000017L|[F001576U -> 3]|\n",
      "|F000019Q|[F001576U -> 5]|\n",
      "|F000020N|[F001576U -> 4]|\n",
      "|F000023U|[F001576U -> 5]|\n",
      "|F000024G|[F001576U -> 5]|\n",
      "|F000025W|[F001576U -> 7]|\n",
      "|F000026E|[F001576U -> 6]|\n",
      "|F000027T|[F001576U -> 4]|\n",
      "|F000029J|[F001576U -> 5]|\n",
      "|F000030M|[F001576U -> 7]|\n",
      "|F000031I|[F001576U -> 6]|\n",
      "|F000033K|[F001576U -> 5]|\n",
      "|F000035B|[F001576U -> 5]|\n",
      "+--------+---------------+\n",
      "only showing top 20 rows\n",
      "\n",
      "============close contact as below============\n",
      "+--------+--------+-----+\n",
      "|      id|     key|value|\n",
      "+--------+--------+-----+\n",
      "|S001140L|F001576U|    1|\n",
      "|F001364I|F001576U|    1|\n",
      "|S000809Z|F001576U|    1|\n",
      "|F001972C|F001576U|    1|\n",
      "|S000989M|F001576U|    1|\n",
      "|F001020C|F001576U|    1|\n",
      "+--------+--------+-----+\n",
      "\n"
     ]
    }
   ],
   "source": [
    "from pyspark.sql.functions import explode\n",
    "\n",
    "confirmed_cases = ['F001576U']\n",
    "\n",
    "shortest_path_df = g.shortestPaths(landmarks=confirmed_cases)\n",
    "shortest_path_df.select(\"id\", \"distances\").orderBy('id').show(20,False)\n",
    "\n",
    "shortest_path_df=shortest_path_df.select(\"id\", explode(\"distances\"))\n",
    "\n",
    "print(f\"============close contact as below============\")\n",
    "shortest_path_df.filter(shortest_path_df.value == 1).show()"
   ],
   "metadata": {
    "collapsed": false,
    "pycharm": {
     "name": "#%%\n"
    }
   }
  },
  {
   "cell_type": "markdown",
   "source": [
    "#### Step 3.2: Community Detection\n",
    "##### Build model, can not use SCC and CC"
   ],
   "metadata": {
    "collapsed": false
   }
  },
  {
   "cell_type": "code",
   "execution_count": 7,
   "outputs": [
    {
     "name": "stdout",
     "output_type": "stream",
     "text": [
      "+------------+--------------------+\n",
      "|       label|    collect_list(id)|\n",
      "+------------+--------------------+\n",
      "|           5|[S000212Z, S000901N]|\n",
      "| 34359738368|          [F000168K]|\n",
      "| 42949672962|[F001435G, F000858Z]|\n",
      "| 42949672966|          [S000071E]|\n",
      "| 51539607557|          [F001242Q]|\n",
      "| 51539607562|          [S001365E]|\n",
      "| 68719476738|          [F001349T]|\n",
      "| 68719476743|[F001393E, F00193...|\n",
      "| 94489280521|          [S001307S]|\n",
      "|120259084288|          [F000274B]|\n",
      "|154618822656|          [F000114Q]|\n",
      "|154618822665|          [F001330P]|\n",
      "|154618822666|          [F001419H]|\n",
      "|163208757254|[F000954Y, S00067...|\n",
      "|171798691841|          [F000441J]|\n",
      "|180388626442|[S001901L, S00043...|\n",
      "|206158430211|          [F001239X]|\n",
      "|206158430217|          [S001653E]|\n",
      "|231928233988|[F001382T, S00157...|\n",
      "|240518168576|          [F001578Y]|\n",
      "+------------+--------------------+\n",
      "only showing top 20 rows\n",
      "\n",
      "+-----------+------------------+--------+------------+--------------------+------------+\n",
      "|resident_id|     resident_name|      id|phone_number|      last_update_dt|       label|\n",
      "+-----------+------------------+--------+------------+--------------------+------------+\n",
      "|    rid_212| resident_name_212|S000212Z|    90000212|2021-04-13 23:22:...|           5|\n",
      "|    rid_901| resident_name_901|S000901N|    80000901|2021-04-13 23:22:...|           5|\n",
      "|    rid_168| resident_name_168|F000168K|    80000168|2021-04-13 23:22:...| 34359738368|\n",
      "|   rid_1435|resident_name_1435|F001435G|    90001435|2021-04-13 23:22:...| 42949672962|\n",
      "|    rid_858| resident_name_858|F000858Z|    80000858|2021-04-13 23:22:...| 42949672962|\n",
      "|     rid_71|  resident_name_71|S000071E|    80000071|2021-04-13 23:22:...| 42949672966|\n",
      "|   rid_1242|resident_name_1242|F001242Q|    90001242|2021-04-13 23:22:...| 51539607557|\n",
      "|   rid_1365|resident_name_1365|S001365E|    90001365|2021-04-13 23:22:...| 51539607562|\n",
      "|   rid_1349|resident_name_1349|F001349T|    80001349|2021-04-13 23:22:...| 68719476738|\n",
      "|    rid_314| resident_name_314|S000314Z|    80000314|2021-04-13 23:22:...| 68719476743|\n",
      "|   rid_1393|resident_name_1393|F001393E|    80001393|2021-04-13 23:22:...| 68719476743|\n",
      "|   rid_1599|resident_name_1599|S001599K|    80001599|2021-04-13 23:22:...| 68719476743|\n",
      "|    rid_763| resident_name_763|F000763S|    90000763|2021-04-13 23:22:...| 68719476743|\n",
      "|   rid_1930|resident_name_1930|F001930T|    80001930|2021-04-13 23:22:...| 68719476743|\n",
      "|   rid_1307|resident_name_1307|S001307S|    80001307|2021-04-13 23:22:...| 94489280521|\n",
      "|    rid_274| resident_name_274|F000274B|    80000274|2021-04-13 23:22:...|120259084288|\n",
      "|    rid_114| resident_name_114|F000114Q|    90000114|2021-04-13 23:22:...|154618822656|\n",
      "|   rid_1330|resident_name_1330|F001330P|    90001330|2021-04-13 23:22:...|154618822665|\n",
      "|   rid_1419|resident_name_1419|F001419H|    90001419|2021-04-13 23:22:...|154618822666|\n",
      "|    rid_954| resident_name_954|F000954Y|    80000954|2021-04-13 23:22:...|163208757254|\n",
      "+-----------+------------------+--------+------------+--------------------+------------+\n",
      "only showing top 20 rows\n",
      "\n"
     ]
    }
   ],
   "source": [
    "communities_df = g.labelPropagation(maxIter=10)\n",
    "\n",
    "from pyspark.sql import functions as func\n",
    "communities_df.sort(\"label\").groupby(\"label\").agg(func.collect_list(\"id\")).show()\n",
    "\n",
    "communities_df.orderBy(\"label\").show()\n",
    "\n",
    "communities_hdfs_path = hdfs_host + hdfs_root_path + communities_file_dest\n",
    "communities_df.write.mode(\"Overwrite\").parquet(communities_hdfs_path)"
   ],
   "metadata": {
    "collapsed": false,
    "pycharm": {
     "name": "#%%\n"
    }
   }
  },
  {
   "cell_type": "markdown",
   "source": [
    "##### Find Cluster for resident"
   ],
   "metadata": {
    "collapsed": false
   }
  },
  {
   "cell_type": "code",
   "execution_count": 10,
   "outputs": [
    {
     "name": "stdout",
     "output_type": "stream",
     "text": [
      "============Resident in the same cluster============\n",
      "+-----------+------------------+--------+------------+--------------------+------------+\n",
      "|resident_id|     resident_name|      id|phone_number|      last_update_dt|       label|\n",
      "+-----------+------------------+--------+------------+--------------------+------------+\n",
      "|    rid_484| resident_name_484|F000484L|    90000484|2021-04-13 23:22:...|549755813888|\n",
      "|   rid_1362|resident_name_1362|S001362C|    90001362|2021-04-13 23:22:...|549755813888|\n",
      "|    rid_716| resident_name_716|S000716D|    80000716|2021-04-13 23:22:...|549755813888|\n",
      "|     rid_13|  resident_name_13|S000013A|    80000013|2021-04-13 23:22:...|549755813888|\n",
      "|   rid_1663|resident_name_1663|F001663X|    90001663|2021-04-13 23:22:...|549755813888|\n",
      "|      rid_6|   resident_name_6|F000006D|    80000006|2021-04-13 23:22:...|549755813888|\n",
      "|    rid_344| resident_name_344|F000344D|    90000344|2021-04-13 23:22:...|549755813888|\n",
      "|    rid_942| resident_name_942|F000942F|    90000942|2021-04-13 23:22:...|549755813888|\n",
      "|   rid_1061|resident_name_1061|F001061E|    80001061|2021-04-13 23:22:...|549755813888|\n",
      "|    rid_802| resident_name_802|F000802U|    90000802|2021-04-13 23:22:...|549755813888|\n",
      "|    rid_472| resident_name_472|F000472B|    90000472|2021-04-13 23:22:...|549755813888|\n",
      "|    rid_533| resident_name_533|F000533B|    80000533|2021-04-13 23:22:...|549755813888|\n",
      "|    rid_768| resident_name_768|S000768L|    90000768|2021-04-13 23:22:...|549755813888|\n",
      "|    rid_526| resident_name_526|F000526Y|    90000526|2021-04-13 23:22:...|549755813888|\n",
      "|   rid_1039|resident_name_1039|S001039I|    80001039|2021-04-13 23:22:...|549755813888|\n",
      "+-----------+------------------+--------+------------+--------------------+------------+\n",
      "\n"
     ]
    }
   ],
   "source": [
    "resident_id = 'F000006D'\n",
    "label = communities_df.filter(\"id = '\" + resident_id + \"'\" ).collect()[0]['label']\n",
    "\n",
    "print('============Resident in the same cluster============')\n",
    "communities_df.filter(\"label = '\"+ str(label) +\"'\").show()"
   ],
   "metadata": {
    "collapsed": false,
    "pycharm": {
     "name": "#%%\n"
    }
   }
  },
  {
   "cell_type": "markdown",
   "source": [
    "##### Un-persist cache"
   ],
   "metadata": {
    "collapsed": false,
    "pycharm": {
     "name": "#%% md\n"
    }
   }
  },
  {
   "cell_type": "code",
   "execution_count": 15,
   "outputs": [
    {
     "data": {
      "text/plain": "GraphFrame(v:[id: string, resident_name: string ... 3 more fields], e:[src: string, dst: string])"
     },
     "execution_count": 15,
     "metadata": {},
     "output_type": "execute_result"
    }
   ],
   "source": [
    "g.unpersist()"
   ],
   "metadata": {
    "collapsed": false,
    "pycharm": {
     "name": "#%%\n"
    }
   }
  }
 ],
 "metadata": {
  "kernelspec": {
   "display_name": "Python 3",
   "language": "python",
   "name": "python3"
  },
  "language_info": {
   "codemirror_mode": {
    "name": "ipython",
    "version": 2
   },
   "file_extension": ".py",
   "mimetype": "text/x-python",
   "name": "python",
   "nbconvert_exporter": "python",
   "pygments_lexer": "ipython2",
   "version": "2.7.6"
  }
 },
 "nbformat": 4,
 "nbformat_minor": 0
}