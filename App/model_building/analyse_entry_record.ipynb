{
 "cells": [
  {
   "cell_type": "code",
   "execution_count": 1,
   "metadata": {
    "collapsed": true
   },
   "outputs": [],
   "source": [
    "import os\n",
    "\n",
    "os.environ[\"PYSPARK_SUBMIT_ARGS\"] = (\n",
    "    \"--packages graphframes:graphframes:0.8.1-spark3.0-s_2.12 pyspark-shell\"\n",
    ")\n",
    "\n",
    "import pyspark\n",
    "from pyspark.sql import SparkSession\n",
    "from App.utils import *\n",
    "from graphframes import *\n",
    "\n",
    "hdfs_host = \"hdfs://localhost:9000\"\n",
    "hdfs_root_path = \"/SafeEntry_Analytics/\"\n",
    "\n",
    "conf = pyspark.SparkConf().setAppName(\"Explore Entry Record\").setMaster(\"local[*]\")\n",
    "sc = pyspark.SparkContext.getOrCreate(conf=conf)\n",
    "spark = SparkSession(sc)\n",
    "\n",
    "resident_file_dest = \"resident.parquet\"\n",
    "place_file_dest = \"place.parquet\"\n",
    "safe_entry_file_dest = \"entry_record.parquet\"\n",
    "contact_graph_edge_file_dest = \"contact_graph_edge.parquet\"\n",
    "contact_graph_vertex_file_dest = \"contact_graph_vertex.parquet\"\n",
    "\n",
    "communities_file_dest = \"communities.parquet\""
   ]
  },
  {
   "cell_type": "markdown",
   "source": [
    "#### Step 1: Retrieve Graph Data"
   ],
   "metadata": {
    "collapsed": false
   }
  },
  {
   "cell_type": "code",
   "execution_count": 2,
   "outputs": [
    {
     "name": "stdout",
     "output_type": "stream",
     "text": [
      "+--------+--------+\n",
      "|     src|     dst|\n",
      "+--------+--------+\n",
      "|rid_1140|rid_1576|\n",
      "|rid_1576|rid_1140|\n",
      "|rid_1140|rid_1596|\n",
      "|rid_1596|rid_1140|\n",
      "|rid_1642|rid_1386|\n",
      "|rid_1386|rid_1642|\n",
      "| rid_575|rid_1245|\n",
      "|rid_1245| rid_575|\n",
      "| rid_913|rid_1151|\n",
      "|rid_1151| rid_913|\n",
      "|rid_1705| rid_759|\n",
      "| rid_759|rid_1705|\n",
      "|rid_1885|rid_1754|\n",
      "|rid_1754|rid_1885|\n",
      "|rid_1885| rid_566|\n",
      "| rid_566|rid_1885|\n",
      "| rid_766|rid_1216|\n",
      "|rid_1216| rid_766|\n",
      "|rid_1754| rid_566|\n",
      "| rid_566|rid_1754|\n",
      "+--------+--------+\n",
      "only showing top 20 rows\n",
      "\n",
      "+------+----------------+--------+------------+--------------------+\n",
      "|    id|   resident_name|    nric|phone_number|      last_update_dt|\n",
      "+------+----------------+--------+------------+--------------------+\n",
      "| rid_1| resident_name_1|S000001U|    80000001|2021-04-13 23:22:...|\n",
      "| rid_2| resident_name_2|S000002J|    80000002|2021-04-13 23:22:...|\n",
      "| rid_3| resident_name_3|F000003Q|    80000003|2021-04-13 23:22:...|\n",
      "| rid_4| resident_name_4|F000004E|    80000004|2021-04-13 23:22:...|\n",
      "| rid_5| resident_name_5|S000005I|    90000005|2021-04-13 23:22:...|\n",
      "| rid_6| resident_name_6|F000006D|    80000006|2021-04-13 23:22:...|\n",
      "| rid_7| resident_name_7|F000007E|    90000007|2021-04-13 23:22:...|\n",
      "| rid_8| resident_name_8|S000008H|    90000008|2021-04-13 23:22:...|\n",
      "| rid_9| resident_name_9|S000009G|    80000009|2021-04-13 23:22:...|\n",
      "|rid_10|resident_name_10|F000010H|    90000010|2021-04-13 23:22:...|\n",
      "|rid_11|resident_name_11|S000011M|    90000011|2021-04-13 23:22:...|\n",
      "|rid_12|resident_name_12|F000012O|    80000012|2021-04-13 23:22:...|\n",
      "|rid_13|resident_name_13|S000013A|    80000013|2021-04-13 23:22:...|\n",
      "|rid_14|resident_name_14|S000014S|    90000014|2021-04-13 23:22:...|\n",
      "|rid_15|resident_name_15|F000015T|    90000015|2021-04-13 23:22:...|\n",
      "|rid_16|resident_name_16|S000016H|    80000016|2021-04-13 23:22:...|\n",
      "|rid_17|resident_name_17|F000017L|    80000017|2021-04-13 23:22:...|\n",
      "|rid_18|resident_name_18|S000018L|    90000018|2021-04-13 23:22:...|\n",
      "|rid_19|resident_name_19|F000019Q|    90000019|2021-04-13 23:22:...|\n",
      "|rid_20|resident_name_20|F000020N|    80000020|2021-04-13 23:22:...|\n",
      "+------+----------------+--------+------------+--------------------+\n",
      "only showing top 20 rows\n",
      "\n"
     ]
    }
   ],
   "source": [
    "e = read_parquet_file(spark, hdfs_host + hdfs_root_path + contact_graph_edge_file_dest)\n",
    "v = read_parquet_file(spark, hdfs_host + hdfs_root_path + contact_graph_vertex_file_dest)\n",
    "g = GraphFrame(v, e)\n",
    "\n",
    "g.edges.show()\n",
    "g.vertices.show()\n"
   ],
   "metadata": {
    "collapsed": false,
    "pycharm": {
     "name": "#%%\n"
    }
   }
  },
  {
   "cell_type": "markdown",
   "source": [
    "#### Step 2: visualize in NetworkX"
   ],
   "metadata": {
    "collapsed": false
   }
  },
  {
   "cell_type": "code",
   "execution_count": 3,
   "outputs": [
    {
     "data": {
      "text/plain": "<Figure size 432x288 with 1 Axes>",
      "image/png": "[encoded data removed]"
     },
     "metadata": {},
     "output_type": "display_data"
    }
   ],
   "source": [
    "g_pdf = g.edges.select(\"*\").toPandas()\n",
    "\n",
    "import networkx as nx\n",
    "import matplotlib.pyplot as plt\n",
    "g_nx = nx.from_pandas_edgelist(g_pdf, source='src', target='dst')\n",
    "nx.draw(g_nx,node_size = 10)\n",
    "plt.show()"
   ],
   "metadata": {
    "collapsed": false,
    "pycharm": {
     "name": "#%%\n"
    }
   }
  },
  {
   "cell_type": "markdown",
   "source": [
    "#### Step 3.1: Find Close Node"
   ],
   "metadata": {
    "collapsed": false
   }
  },
  {
   "cell_type": "code",
   "execution_count": 4,
   "outputs": [
    {
     "name": "stdout",
     "output_type": "stream",
     "text": [
      "+--------+--------------+\n",
      "|id      |distances     |\n",
      "+--------+--------------+\n",
      "|rid_1   |[rid_949 -> 5]|\n",
      "|rid_10  |[rid_949 -> 6]|\n",
      "|rid_100 |[rid_949 -> 7]|\n",
      "|rid_1000|[rid_949 -> 2]|\n",
      "|rid_1001|[rid_949 -> 6]|\n",
      "|rid_1002|[rid_949 -> 4]|\n",
      "|rid_1003|[rid_949 -> 6]|\n",
      "|rid_1004|[rid_949 -> 6]|\n",
      "|rid_1005|[rid_949 -> 5]|\n",
      "|rid_1006|[rid_949 -> 5]|\n",
      "|rid_1007|[rid_949 -> 7]|\n",
      "|rid_1008|[rid_949 -> 5]|\n",
      "|rid_1009|[rid_949 -> 6]|\n",
      "|rid_101 |[rid_949 -> 6]|\n",
      "|rid_1010|[rid_949 -> 2]|\n",
      "|rid_1011|[rid_949 -> 5]|\n",
      "|rid_1012|[rid_949 -> 3]|\n",
      "|rid_1013|[rid_949 -> 5]|\n",
      "|rid_1014|[rid_949 -> 8]|\n",
      "|rid_1015|[]            |\n",
      "+--------+--------------+\n",
      "only showing top 20 rows\n",
      "\n",
      "============close contact as below============\n",
      "+--------+-------+-----+\n",
      "|      id|    key|value|\n",
      "+--------+-------+-----+\n",
      "| rid_896|rid_949|    1|\n",
      "| rid_649|rid_949|    1|\n",
      "|rid_1805|rid_949|    1|\n",
      "|rid_1294|rid_949|    1|\n",
      "|rid_1087|rid_949|    1|\n",
      "+--------+-------+-----+\n",
      "\n"
     ]
    }
   ],
   "source": [
    "from pyspark.sql.functions import explode\n",
    "\n",
    "confirmed_cases = ['rid_949']\n",
    "\n",
    "shortest_path_df = g.shortestPaths(landmarks=confirmed_cases)\n",
    "shortest_path_df.select(\"id\", \"distances\").orderBy('id').show(20,False)\n",
    "\n",
    "shortest_path_df=shortest_path_df.select(\"id\", explode(\"distances\"))\n",
    "\n",
    "print(f\"============close contact as below============\")\n",
    "shortest_path_df.filter(shortest_path_df.value == 1).show()"
   ],
   "metadata": {
    "collapsed": false,
    "pycharm": {
     "name": "#%%\n"
    }
   }
  },
  {
   "cell_type": "markdown",
   "source": [
    "#### Step 3.2: Community Detection\n",
    "##### Build model, can not use SCC and CC"
   ],
   "metadata": {
    "collapsed": false
   }
  },
  {
   "cell_type": "code",
   "execution_count": 5,
   "outputs": [
    {
     "name": "stdout",
     "output_type": "stream",
     "text": [
      "+------------+--------------------+\n",
      "|       label|    collect_list(id)|\n",
      "+------------+--------------------+\n",
      "| 94489280520|           [rid_619]|\n",
      "|103079215105|          [rid_1330]|\n",
      "|128849018883|[rid_1119, rid_86...|\n",
      "|137438953473|          [rid_1307]|\n",
      "|171798691843|           [rid_292]|\n",
      "|206158430214| [rid_789, rid_1505]|\n",
      "|214748364802|          [rid_1242]|\n",
      "|214748364809|[rid_1400, rid_87...|\n",
      "|223338299396|          [rid_1691]|\n",
      "|223338299398|[rid_1765, rid_1853]|\n",
      "|231928233994|           [rid_668]|\n",
      "|249108103171|          [rid_1543]|\n",
      "|249108103172| [rid_432, rid_1627]|\n",
      "|266287972353|          [rid_1387]|\n",
      "|292057776137|          [rid_1357]|\n",
      "|300647710721|          [rid_1531]|\n",
      "|300647710724|           [rid_249]|\n",
      "|309237645317|[rid_1473, rid_16...|\n",
      "|317827579916|           [rid_452]|\n",
      "|317827579918|             [rid_5]|\n",
      "+------------+--------------------+\n",
      "only showing top 20 rows\n",
      "\n",
      "+--------+------------------+--------+------------+--------------------+------------+\n",
      "|      id|     resident_name|    nric|phone_number|      last_update_dt|       label|\n",
      "+--------+------------------+--------+------------+--------------------+------------+\n",
      "| rid_619| resident_name_619|F000619H|    90000619|2021-04-13 23:22:...| 94489280520|\n",
      "|rid_1330|resident_name_1330|F001330P|    90001330|2021-04-13 23:22:...|103079215105|\n",
      "|rid_1119|resident_name_1119|F001119K|    90001119|2021-04-13 23:22:...|128849018883|\n",
      "| rid_868| resident_name_868|F000868R|    90000868|2021-04-13 23:22:...|128849018883|\n",
      "|rid_1727|resident_name_1727|S001727P|    90001727|2021-04-13 23:22:...|128849018883|\n",
      "|rid_1307|resident_name_1307|S001307S|    80001307|2021-04-13 23:22:...|137438953473|\n",
      "| rid_292| resident_name_292|F000292J|    80000292|2021-04-13 23:22:...|171798691843|\n",
      "|rid_1505|resident_name_1505|S001505A|    80001505|2021-04-13 23:22:...|206158430214|\n",
      "| rid_789| resident_name_789|F000789I|    80000789|2021-04-13 23:22:...|206158430214|\n",
      "|rid_1242|resident_name_1242|F001242Q|    90001242|2021-04-13 23:22:...|214748364802|\n",
      "| rid_794| resident_name_794|S000794N|    80000794|2021-04-13 23:22:...|214748364809|\n",
      "|rid_1400|resident_name_1400|F001400V|    90001400|2021-04-13 23:22:...|214748364809|\n",
      "| rid_871| resident_name_871|F000871W|    90000871|2021-04-13 23:22:...|214748364809|\n",
      "|rid_1742|resident_name_1742|S001742U|    90001742|2021-04-13 23:22:...|214748364809|\n",
      "|rid_1691|resident_name_1691|F001691D|    80001691|2021-04-13 23:22:...|223338299396|\n",
      "|rid_1765|resident_name_1765|F001765K|    90001765|2021-04-13 23:22:...|223338299398|\n",
      "|rid_1853|resident_name_1853|S001853G|    90001853|2021-04-13 23:22:...|223338299398|\n",
      "| rid_668| resident_name_668|F000668Z|    90000668|2021-04-13 23:22:...|231928233994|\n",
      "|rid_1543|resident_name_1543|S001543M|    80001543|2021-04-13 23:22:...|249108103171|\n",
      "| rid_432| resident_name_432|S000432C|    80000432|2021-04-13 23:22:...|249108103172|\n",
      "+--------+------------------+--------+------------+--------------------+------------+\n",
      "only showing top 20 rows\n",
      "\n"
     ]
    }
   ],
   "source": [
    "communities_df = g.labelPropagation(maxIter=10)\n",
    "\n",
    "from pyspark.sql import functions as func\n",
    "communities_df.sort(\"label\").groupby(\"label\").agg(func.collect_list(\"id\")).show()\n",
    "\n",
    "communities_df.orderBy(\"label\").show()\n",
    "\n",
    "communities_hdfs_path = hdfs_host + hdfs_root_path + communities_file_dest\n",
    "communities_df.write.mode(\"Overwrite\").parquet(communities_hdfs_path)"
   ],
   "metadata": {
    "collapsed": false,
    "pycharm": {
     "name": "#%%\n"
    }
   }
  },
  {
   "cell_type": "markdown",
   "source": [
    "##### Find Cluster for resident"
   ],
   "metadata": {
    "collapsed": false
   }
  },
  {
   "cell_type": "code",
   "execution_count": 6,
   "outputs": [
    {
     "name": "stdout",
     "output_type": "stream",
     "text": [
      "============Resident in the same cluster============\n",
      "+--------+------------------+--------+------------+--------------------+------------+\n",
      "|      id|     resident_name|    nric|phone_number|      last_update_dt|       label|\n",
      "+--------+------------------+--------+------------+--------------------+------------+\n",
      "|rid_1066|resident_name_1066|S001066Q|    80001066|2021-04-13 23:22:...|481036337159|\n",
      "|rid_1475|resident_name_1475|F001475U|    80001475|2021-04-13 23:22:...|481036337159|\n",
      "|rid_1899|resident_name_1899|F001899S|    80001899|2021-04-13 23:22:...|481036337159|\n",
      "| rid_367| resident_name_367|F000367J|    80000367|2021-04-13 23:22:...|481036337159|\n",
      "| rid_970| resident_name_970|S000970Y|    90000970|2021-04-13 23:22:...|481036337159|\n",
      "|  rid_90|  resident_name_90|F000090S|    80000090|2021-04-13 23:22:...|481036337159|\n",
      "| rid_591| resident_name_591|S000591K|    90000591|2021-04-13 23:22:...|481036337159|\n",
      "| rid_714| resident_name_714|S000714E|    90000714|2021-04-13 23:22:...|481036337159|\n",
      "|rid_1827|resident_name_1827|S001827F|    80001827|2021-04-13 23:22:...|481036337159|\n",
      "|rid_1629|resident_name_1629|S001629B|    80001629|2021-04-13 23:22:...|481036337159|\n",
      "| rid_874| resident_name_874|F000874O|    90000874|2021-04-13 23:22:...|481036337159|\n",
      "| rid_251| resident_name_251|S000251J|    80000251|2021-04-13 23:22:...|481036337159|\n",
      "|rid_1241|resident_name_1241|S001241K|    90001241|2021-04-13 23:22:...|481036337159|\n",
      "|rid_1948|resident_name_1948|S001948W|    80001948|2021-04-13 23:22:...|481036337159|\n",
      "|rid_1152|resident_name_1152|S001152V|    90001152|2021-04-13 23:22:...|481036337159|\n",
      "|rid_1210|resident_name_1210|F001210P|    90001210|2021-04-13 23:22:...|481036337159|\n",
      "| rid_306| resident_name_306|S000306U|    80000306|2021-04-13 23:22:...|481036337159|\n",
      "| rid_819| resident_name_819|F000819D|    90000819|2021-04-13 23:22:...|481036337159|\n",
      "| rid_215| resident_name_215|F000215K|    90000215|2021-04-13 23:22:...|481036337159|\n",
      "| rid_242| resident_name_242|S000242L|    90000242|2021-04-13 23:22:...|481036337159|\n",
      "+--------+------------------+--------+------------+--------------------+------------+\n",
      "only showing top 20 rows\n",
      "\n"
     ]
    }
   ],
   "source": [
    "resident_id = 'rid_1152'\n",
    "label = communities_df.filter(\"id = '\" + resident_id + \"'\" ).collect()[0]['label']\n",
    "\n",
    "print('============Resident in the same cluster============')\n",
    "communities_df.filter(\"label = '\"+ str(label) +\"'\").show()"
   ],
   "metadata": {
    "collapsed": false,
    "pycharm": {
     "name": "#%%\n"
    }
   }
  }
 ],
 "metadata": {
  "kernelspec": {
   "display_name": "Python 3",
   "language": "python",
   "name": "python3"
  },
  "language_info": {
   "codemirror_mode": {
    "name": "ipython",
    "version": 2
   },
   "file_extension": ".py",
   "mimetype": "text/x-python",
   "name": "python",
   "nbconvert_exporter": "python",
   "pygments_lexer": "ipython2",
   "version": "2.7.6"
  }
 },
 "nbformat": 4,
 "nbformat_minor": 0
}